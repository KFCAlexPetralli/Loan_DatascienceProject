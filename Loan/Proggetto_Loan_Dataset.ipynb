{
 "cells": [
  {
   "cell_type": "markdown",
   "metadata": {},
   "source": [
    "Group: Alex Petralli,"
   ]
  },
  {
   "cell_type": "markdown",
   "metadata": {},
   "source": [
    "### Library import"
   ]
  },
  {
   "cell_type": "code",
   "execution_count": 10,
   "metadata": {},
   "outputs": [],
   "source": [
    "#Import library\n",
    "import numpy as np\n",
    "import pandas as pd\n",
    "import plotly.express as px\n",
    "import plotly.graph_objects as go\n",
    "import time\n",
    "import requests\n",
    "import os\n",
    "\n",
    "from typing import Final\n",
    "from IPython.display import display\n",
    "from pathlib import Path\n",
    "from plotly import subplots\n",
    "from plotly.subplots import make_subplots"
   ]
  },
  {
   "cell_type": "markdown",
   "metadata": {},
   "source": [
    "### Importing Data From CSV"
   ]
  },
  {
   "cell_type": "code",
   "execution_count": 11,
   "metadata": {},
   "outputs": [],
   "source": [
    "#Import Data\n",
    "#https://www.kaggle.com/datasets/taweilo/loan-approval-classification-data\n",
    "# Load the dataset\n",
    "CSV : Final = pd.read_csv(\"loan_data.csv\")\n",
    "data = CSV# Check the column names"
   ]
  },
  {
   "cell_type": "markdown",
   "metadata": {},
   "source": [
    "### DataSet: Columns & Shape"
   ]
  },
  {
   "cell_type": "code",
   "execution_count": 12,
   "metadata": {},
   "outputs": [
    {
     "name": "stdout",
     "output_type": "stream",
     "text": [
      "Index(['person_age', 'person_gender', 'person_education', 'person_income',\n",
      "       'person_emp_exp', 'person_home_ownership', 'loan_amnt', 'loan_intent',\n",
      "       'loan_int_rate', 'loan_percent_income', 'cb_person_cred_hist_length',\n",
      "       'credit_score', 'previous_loan_defaults_on_file', 'loan_status'],\n",
      "      dtype='object')\n",
      "(45000, 14)\n"
     ]
    }
   ],
   "source": [
    "data = CSV.copy()\n",
    "print(data.columns)\n",
    "print(data.shape)"
   ]
  },
  {
   "cell_type": "markdown",
   "metadata": {},
   "source": [
    "### Data overview: Column Types\n",
    "\n",
    "The table provides an overview of the columns in our dataset along with their respective data types.\n",
    "\n",
    "- **Integer Columns**:\n",
    "- **Float Columns**:   \n",
    "- **String Columns**: person_gender, person_education, person_home_ownership, loan_intent, previous_loan_defaults_on_file\n",
    "- **Boolean Columns**: "
   ]
  },
  {
   "cell_type": "code",
   "execution_count": 13,
   "metadata": {},
   "outputs": [
    {
     "data": {
      "application/vnd.plotly.v1+json": {
       "config": {
        "plotlyServerURL": "https://plot.ly"
       },
       "data": [
        {
         "cells": {
          "align": "left",
          "fill": {
           "color": "lavender"
          },
          "values": [
           [
            "person_age",
            "person_gender",
            "person_education",
            "person_income",
            "person_emp_exp",
            "person_home_ownership",
            "loan_amnt",
            "loan_intent",
            "loan_int_rate",
            "loan_percent_income",
            "cb_person_cred_hist_length",
            "credit_score",
            "previous_loan_defaults_on_file",
            "loan_status"
           ],
           [
            "<class 'numpy.float64'>",
            "<class 'str'>",
            "<class 'str'>",
            "<class 'numpy.float64'>",
            "<class 'numpy.int64'>",
            "<class 'str'>",
            "<class 'numpy.float64'>",
            "<class 'str'>",
            "<class 'numpy.float64'>",
            "<class 'numpy.float64'>",
            "<class 'numpy.float64'>",
            "<class 'numpy.int64'>",
            "<class 'str'>",
            "<class 'numpy.int64'>"
           ]
          ]
         },
         "header": {
          "align": "left",
          "fill": {
           "color": "paleturquoise"
          },
          "values": [
           "Column",
           "Data Type"
          ]
         },
         "type": "table"
        }
       ],
       "layout": {
        "height": 520,
        "template": {
         "data": {
          "bar": [
           {
            "error_x": {
             "color": "#2a3f5f"
            },
            "error_y": {
             "color": "#2a3f5f"
            },
            "marker": {
             "line": {
              "color": "#E5ECF6",
              "width": 0.5
             },
             "pattern": {
              "fillmode": "overlay",
              "size": 10,
              "solidity": 0.2
             }
            },
            "type": "bar"
           }
          ],
          "barpolar": [
           {
            "marker": {
             "line": {
              "color": "#E5ECF6",
              "width": 0.5
             },
             "pattern": {
              "fillmode": "overlay",
              "size": 10,
              "solidity": 0.2
             }
            },
            "type": "barpolar"
           }
          ],
          "carpet": [
           {
            "aaxis": {
             "endlinecolor": "#2a3f5f",
             "gridcolor": "white",
             "linecolor": "white",
             "minorgridcolor": "white",
             "startlinecolor": "#2a3f5f"
            },
            "baxis": {
             "endlinecolor": "#2a3f5f",
             "gridcolor": "white",
             "linecolor": "white",
             "minorgridcolor": "white",
             "startlinecolor": "#2a3f5f"
            },
            "type": "carpet"
           }
          ],
          "choropleth": [
           {
            "colorbar": {
             "outlinewidth": 0,
             "ticks": ""
            },
            "type": "choropleth"
           }
          ],
          "contour": [
           {
            "colorbar": {
             "outlinewidth": 0,
             "ticks": ""
            },
            "colorscale": [
             [
              0,
              "#0d0887"
             ],
             [
              0.1111111111111111,
              "#46039f"
             ],
             [
              0.2222222222222222,
              "#7201a8"
             ],
             [
              0.3333333333333333,
              "#9c179e"
             ],
             [
              0.4444444444444444,
              "#bd3786"
             ],
             [
              0.5555555555555556,
              "#d8576b"
             ],
             [
              0.6666666666666666,
              "#ed7953"
             ],
             [
              0.7777777777777778,
              "#fb9f3a"
             ],
             [
              0.8888888888888888,
              "#fdca26"
             ],
             [
              1,
              "#f0f921"
             ]
            ],
            "type": "contour"
           }
          ],
          "contourcarpet": [
           {
            "colorbar": {
             "outlinewidth": 0,
             "ticks": ""
            },
            "type": "contourcarpet"
           }
          ],
          "heatmap": [
           {
            "colorbar": {
             "outlinewidth": 0,
             "ticks": ""
            },
            "colorscale": [
             [
              0,
              "#0d0887"
             ],
             [
              0.1111111111111111,
              "#46039f"
             ],
             [
              0.2222222222222222,
              "#7201a8"
             ],
             [
              0.3333333333333333,
              "#9c179e"
             ],
             [
              0.4444444444444444,
              "#bd3786"
             ],
             [
              0.5555555555555556,
              "#d8576b"
             ],
             [
              0.6666666666666666,
              "#ed7953"
             ],
             [
              0.7777777777777778,
              "#fb9f3a"
             ],
             [
              0.8888888888888888,
              "#fdca26"
             ],
             [
              1,
              "#f0f921"
             ]
            ],
            "type": "heatmap"
           }
          ],
          "heatmapgl": [
           {
            "colorbar": {
             "outlinewidth": 0,
             "ticks": ""
            },
            "colorscale": [
             [
              0,
              "#0d0887"
             ],
             [
              0.1111111111111111,
              "#46039f"
             ],
             [
              0.2222222222222222,
              "#7201a8"
             ],
             [
              0.3333333333333333,
              "#9c179e"
             ],
             [
              0.4444444444444444,
              "#bd3786"
             ],
             [
              0.5555555555555556,
              "#d8576b"
             ],
             [
              0.6666666666666666,
              "#ed7953"
             ],
             [
              0.7777777777777778,
              "#fb9f3a"
             ],
             [
              0.8888888888888888,
              "#fdca26"
             ],
             [
              1,
              "#f0f921"
             ]
            ],
            "type": "heatmapgl"
           }
          ],
          "histogram": [
           {
            "marker": {
             "pattern": {
              "fillmode": "overlay",
              "size": 10,
              "solidity": 0.2
             }
            },
            "type": "histogram"
           }
          ],
          "histogram2d": [
           {
            "colorbar": {
             "outlinewidth": 0,
             "ticks": ""
            },
            "colorscale": [
             [
              0,
              "#0d0887"
             ],
             [
              0.1111111111111111,
              "#46039f"
             ],
             [
              0.2222222222222222,
              "#7201a8"
             ],
             [
              0.3333333333333333,
              "#9c179e"
             ],
             [
              0.4444444444444444,
              "#bd3786"
             ],
             [
              0.5555555555555556,
              "#d8576b"
             ],
             [
              0.6666666666666666,
              "#ed7953"
             ],
             [
              0.7777777777777778,
              "#fb9f3a"
             ],
             [
              0.8888888888888888,
              "#fdca26"
             ],
             [
              1,
              "#f0f921"
             ]
            ],
            "type": "histogram2d"
           }
          ],
          "histogram2dcontour": [
           {
            "colorbar": {
             "outlinewidth": 0,
             "ticks": ""
            },
            "colorscale": [
             [
              0,
              "#0d0887"
             ],
             [
              0.1111111111111111,
              "#46039f"
             ],
             [
              0.2222222222222222,
              "#7201a8"
             ],
             [
              0.3333333333333333,
              "#9c179e"
             ],
             [
              0.4444444444444444,
              "#bd3786"
             ],
             [
              0.5555555555555556,
              "#d8576b"
             ],
             [
              0.6666666666666666,
              "#ed7953"
             ],
             [
              0.7777777777777778,
              "#fb9f3a"
             ],
             [
              0.8888888888888888,
              "#fdca26"
             ],
             [
              1,
              "#f0f921"
             ]
            ],
            "type": "histogram2dcontour"
           }
          ],
          "mesh3d": [
           {
            "colorbar": {
             "outlinewidth": 0,
             "ticks": ""
            },
            "type": "mesh3d"
           }
          ],
          "parcoords": [
           {
            "line": {
             "colorbar": {
              "outlinewidth": 0,
              "ticks": ""
             }
            },
            "type": "parcoords"
           }
          ],
          "pie": [
           {
            "automargin": true,
            "type": "pie"
           }
          ],
          "scatter": [
           {
            "fillpattern": {
             "fillmode": "overlay",
             "size": 10,
             "solidity": 0.2
            },
            "type": "scatter"
           }
          ],
          "scatter3d": [
           {
            "line": {
             "colorbar": {
              "outlinewidth": 0,
              "ticks": ""
             }
            },
            "marker": {
             "colorbar": {
              "outlinewidth": 0,
              "ticks": ""
             }
            },
            "type": "scatter3d"
           }
          ],
          "scattercarpet": [
           {
            "marker": {
             "colorbar": {
              "outlinewidth": 0,
              "ticks": ""
             }
            },
            "type": "scattercarpet"
           }
          ],
          "scattergeo": [
           {
            "marker": {
             "colorbar": {
              "outlinewidth": 0,
              "ticks": ""
             }
            },
            "type": "scattergeo"
           }
          ],
          "scattergl": [
           {
            "marker": {
             "colorbar": {
              "outlinewidth": 0,
              "ticks": ""
             }
            },
            "type": "scattergl"
           }
          ],
          "scattermapbox": [
           {
            "marker": {
             "colorbar": {
              "outlinewidth": 0,
              "ticks": ""
             }
            },
            "type": "scattermapbox"
           }
          ],
          "scatterpolar": [
           {
            "marker": {
             "colorbar": {
              "outlinewidth": 0,
              "ticks": ""
             }
            },
            "type": "scatterpolar"
           }
          ],
          "scatterpolargl": [
           {
            "marker": {
             "colorbar": {
              "outlinewidth": 0,
              "ticks": ""
             }
            },
            "type": "scatterpolargl"
           }
          ],
          "scatterternary": [
           {
            "marker": {
             "colorbar": {
              "outlinewidth": 0,
              "ticks": ""
             }
            },
            "type": "scatterternary"
           }
          ],
          "surface": [
           {
            "colorbar": {
             "outlinewidth": 0,
             "ticks": ""
            },
            "colorscale": [
             [
              0,
              "#0d0887"
             ],
             [
              0.1111111111111111,
              "#46039f"
             ],
             [
              0.2222222222222222,
              "#7201a8"
             ],
             [
              0.3333333333333333,
              "#9c179e"
             ],
             [
              0.4444444444444444,
              "#bd3786"
             ],
             [
              0.5555555555555556,
              "#d8576b"
             ],
             [
              0.6666666666666666,
              "#ed7953"
             ],
             [
              0.7777777777777778,
              "#fb9f3a"
             ],
             [
              0.8888888888888888,
              "#fdca26"
             ],
             [
              1,
              "#f0f921"
             ]
            ],
            "type": "surface"
           }
          ],
          "table": [
           {
            "cells": {
             "fill": {
              "color": "#EBF0F8"
             },
             "line": {
              "color": "white"
             }
            },
            "header": {
             "fill": {
              "color": "#C8D4E3"
             },
             "line": {
              "color": "white"
             }
            },
            "type": "table"
           }
          ]
         },
         "layout": {
          "annotationdefaults": {
           "arrowcolor": "#2a3f5f",
           "arrowhead": 0,
           "arrowwidth": 1
          },
          "autotypenumbers": "strict",
          "coloraxis": {
           "colorbar": {
            "outlinewidth": 0,
            "ticks": ""
           }
          },
          "colorscale": {
           "diverging": [
            [
             0,
             "#8e0152"
            ],
            [
             0.1,
             "#c51b7d"
            ],
            [
             0.2,
             "#de77ae"
            ],
            [
             0.3,
             "#f1b6da"
            ],
            [
             0.4,
             "#fde0ef"
            ],
            [
             0.5,
             "#f7f7f7"
            ],
            [
             0.6,
             "#e6f5d0"
            ],
            [
             0.7,
             "#b8e186"
            ],
            [
             0.8,
             "#7fbc41"
            ],
            [
             0.9,
             "#4d9221"
            ],
            [
             1,
             "#276419"
            ]
           ],
           "sequential": [
            [
             0,
             "#0d0887"
            ],
            [
             0.1111111111111111,
             "#46039f"
            ],
            [
             0.2222222222222222,
             "#7201a8"
            ],
            [
             0.3333333333333333,
             "#9c179e"
            ],
            [
             0.4444444444444444,
             "#bd3786"
            ],
            [
             0.5555555555555556,
             "#d8576b"
            ],
            [
             0.6666666666666666,
             "#ed7953"
            ],
            [
             0.7777777777777778,
             "#fb9f3a"
            ],
            [
             0.8888888888888888,
             "#fdca26"
            ],
            [
             1,
             "#f0f921"
            ]
           ],
           "sequentialminus": [
            [
             0,
             "#0d0887"
            ],
            [
             0.1111111111111111,
             "#46039f"
            ],
            [
             0.2222222222222222,
             "#7201a8"
            ],
            [
             0.3333333333333333,
             "#9c179e"
            ],
            [
             0.4444444444444444,
             "#bd3786"
            ],
            [
             0.5555555555555556,
             "#d8576b"
            ],
            [
             0.6666666666666666,
             "#ed7953"
            ],
            [
             0.7777777777777778,
             "#fb9f3a"
            ],
            [
             0.8888888888888888,
             "#fdca26"
            ],
            [
             1,
             "#f0f921"
            ]
           ]
          },
          "colorway": [
           "#636efa",
           "#EF553B",
           "#00cc96",
           "#ab63fa",
           "#FFA15A",
           "#19d3f3",
           "#FF6692",
           "#B6E880",
           "#FF97FF",
           "#FECB52"
          ],
          "font": {
           "color": "#2a3f5f"
          },
          "geo": {
           "bgcolor": "white",
           "lakecolor": "white",
           "landcolor": "#E5ECF6",
           "showlakes": true,
           "showland": true,
           "subunitcolor": "white"
          },
          "hoverlabel": {
           "align": "left"
          },
          "hovermode": "closest",
          "mapbox": {
           "style": "light"
          },
          "paper_bgcolor": "white",
          "plot_bgcolor": "#E5ECF6",
          "polar": {
           "angularaxis": {
            "gridcolor": "white",
            "linecolor": "white",
            "ticks": ""
           },
           "bgcolor": "#E5ECF6",
           "radialaxis": {
            "gridcolor": "white",
            "linecolor": "white",
            "ticks": ""
           }
          },
          "scene": {
           "xaxis": {
            "backgroundcolor": "#E5ECF6",
            "gridcolor": "white",
            "gridwidth": 2,
            "linecolor": "white",
            "showbackground": true,
            "ticks": "",
            "zerolinecolor": "white"
           },
           "yaxis": {
            "backgroundcolor": "#E5ECF6",
            "gridcolor": "white",
            "gridwidth": 2,
            "linecolor": "white",
            "showbackground": true,
            "ticks": "",
            "zerolinecolor": "white"
           },
           "zaxis": {
            "backgroundcolor": "#E5ECF6",
            "gridcolor": "white",
            "gridwidth": 2,
            "linecolor": "white",
            "showbackground": true,
            "ticks": "",
            "zerolinecolor": "white"
           }
          },
          "shapedefaults": {
           "line": {
            "color": "#2a3f5f"
           }
          },
          "ternary": {
           "aaxis": {
            "gridcolor": "white",
            "linecolor": "white",
            "ticks": ""
           },
           "baxis": {
            "gridcolor": "white",
            "linecolor": "white",
            "ticks": ""
           },
           "bgcolor": "#E5ECF6",
           "caxis": {
            "gridcolor": "white",
            "linecolor": "white",
            "ticks": ""
           }
          },
          "title": {
           "x": 0.05
          },
          "xaxis": {
           "automargin": true,
           "gridcolor": "white",
           "linecolor": "white",
           "ticks": "",
           "title": {
            "standoff": 15
           },
           "zerolinecolor": "white",
           "zerolinewidth": 2
          },
          "yaxis": {
           "automargin": true,
           "gridcolor": "white",
           "linecolor": "white",
           "ticks": "",
           "title": {
            "standoff": 15
           },
           "zerolinecolor": "white",
           "zerolinewidth": 2
          }
         }
        },
        "width": 800
       }
      }
     },
     "metadata": {},
     "output_type": "display_data"
    }
   ],
   "source": [
    "\n",
    "data= CSV.copy()\n",
    "\n",
    "\n",
    "table_data = {\n",
    "    \"Column\": data.columns,\n",
    "    \"Data Type\": [str(type(data[col].dropna().iloc[0])) if not data[col].dropna().empty else \"None\" for col in data.columns]\n",
    "}\n",
    "\n",
    "\n",
    "row_height = 30  \n",
    "height = row_height * len(data.columns) + 100  \n",
    "width = 800  \n",
    "\n",
    "# Creating the table with Plotly\n",
    "fig = go.Figure(\n",
    "    data=[\n",
    "        go.Table(\n",
    "            header=dict(\n",
    "                values=[\"Column\", \"Data Type\"],\n",
    "                fill_color=\"paleturquoise\",\n",
    "                align=\"left\"\n",
    "            ),\n",
    "            cells=dict(\n",
    "                values=[table_data[\"Column\"], table_data[\"Data Type\"]],\n",
    "                fill_color=\"lavender\",\n",
    "                align=\"left\"\n",
    "            )\n",
    "        )\n",
    "    ]\n",
    ")\n",
    "fig.update_layout(width=width, height=height)\n",
    "fig.show()"
   ]
  },
  {
   "cell_type": "code",
   "execution_count": 14,
   "metadata": {},
   "outputs": [
    {
     "data": {
      "application/vnd.plotly.v1+json": {
       "config": {
        "plotlyServerURL": "https://plot.ly"
       },
       "data": [
        {
         "colorbar": {
          "title": {
           "text": "Correlation Coefficient"
          }
         },
         "colorscale": [
          [
           0,
           "#440154"
          ],
          [
           0.1111111111111111,
           "#482878"
          ],
          [
           0.2222222222222222,
           "#3e4989"
          ],
          [
           0.3333333333333333,
           "#31688e"
          ],
          [
           0.4444444444444444,
           "#26828e"
          ],
          [
           0.5555555555555556,
           "#1f9e89"
          ],
          [
           0.6666666666666666,
           "#35b779"
          ],
          [
           0.7777777777777778,
           "#6ece58"
          ],
          [
           0.8888888888888888,
           "#b5de2b"
          ],
          [
           1,
           "#fde725"
          ]
         ],
         "type": "heatmap",
         "x": [
          "person_age",
          "person_income",
          "person_emp_exp",
          "loan_amnt",
          "loan_int_rate",
          "loan_percent_income",
          "cb_person_cred_hist_length",
          "credit_score",
          "loan_status"
         ],
         "y": [
          "person_age",
          "person_income",
          "person_emp_exp",
          "loan_amnt",
          "loan_int_rate",
          "loan_percent_income",
          "cb_person_cred_hist_length",
          "credit_score",
          "loan_status"
         ],
         "z": [
          [
           1,
           0.19369778136071508,
           0.9544121607878329,
           0.050749540602370614,
           0.01340164026562026,
           -0.043298644077120085,
           0.86198455770491,
           0.1784324703823852,
           -0.021476054855194042
          ],
          [
           0.19369778136071508,
           1,
           0.18598714700942123,
           0.242290131087502,
           0.001509827526779948,
           -0.2341765476692697,
           0.12431564423422475,
           0.035919224702713956,
           -0.13580771683574258
          ],
          [
           0.9544121607878329,
           0.18598714700942123,
           1,
           0.04458939355564952,
           0.01663134410910721,
           -0.03986152771329923,
           0.8242715421191775,
           0.18619613424864548,
           -0.020481258863378586
          ],
          [
           0.050749540602370614,
           0.242290131087502,
           0.04458939355564952,
           1,
           0.1460930818522,
           0.593011449299983,
           0.042969327916477416,
           0.009074281592877688,
           0.10771446698132882
          ],
          [
           0.01340164026562026,
           0.001509827526779948,
           0.01663134410910721,
           0.1460930818522,
           1,
           0.12520948777799193,
           0.018007997355822362,
           0.011497752329654411,
           0.3320046474150743
          ],
          [
           -0.043298644077120085,
           -0.2341765476692697,
           -0.03986152771329923,
           0.593011449299983,
           0.12520948777799193,
           1,
           -0.03186773413769295,
           -0.01148309587117803,
           0.3848803799720441
          ],
          [
           0.86198455770491,
           0.12431564423422475,
           0.8242715421191775,
           0.042969327916477416,
           0.018007997355822362,
           -0.03186773413769295,
           1,
           0.15520413012141704,
           -0.014850683660986241
          ],
          [
           0.1784324703823852,
           0.035919224702713956,
           0.18619613424864548,
           0.009074281592877688,
           0.011497752329654411,
           -0.01148309587117803,
           0.15520413012141704,
           1,
           -0.0076471763348806236
          ],
          [
           -0.021476054855194042,
           -0.13580771683574258,
           -0.020481258863378586,
           0.10771446698132882,
           0.3320046474150743,
           0.3848803799720441,
           -0.014850683660986241,
           -0.0076471763348806236,
           1
          ]
         ]
        }
       ],
       "layout": {
        "autosize": false,
        "height": 800,
        "template": {
         "data": {
          "bar": [
           {
            "error_x": {
             "color": "#2a3f5f"
            },
            "error_y": {
             "color": "#2a3f5f"
            },
            "marker": {
             "line": {
              "color": "#E5ECF6",
              "width": 0.5
             },
             "pattern": {
              "fillmode": "overlay",
              "size": 10,
              "solidity": 0.2
             }
            },
            "type": "bar"
           }
          ],
          "barpolar": [
           {
            "marker": {
             "line": {
              "color": "#E5ECF6",
              "width": 0.5
             },
             "pattern": {
              "fillmode": "overlay",
              "size": 10,
              "solidity": 0.2
             }
            },
            "type": "barpolar"
           }
          ],
          "carpet": [
           {
            "aaxis": {
             "endlinecolor": "#2a3f5f",
             "gridcolor": "white",
             "linecolor": "white",
             "minorgridcolor": "white",
             "startlinecolor": "#2a3f5f"
            },
            "baxis": {
             "endlinecolor": "#2a3f5f",
             "gridcolor": "white",
             "linecolor": "white",
             "minorgridcolor": "white",
             "startlinecolor": "#2a3f5f"
            },
            "type": "carpet"
           }
          ],
          "choropleth": [
           {
            "colorbar": {
             "outlinewidth": 0,
             "ticks": ""
            },
            "type": "choropleth"
           }
          ],
          "contour": [
           {
            "colorbar": {
             "outlinewidth": 0,
             "ticks": ""
            },
            "colorscale": [
             [
              0,
              "#0d0887"
             ],
             [
              0.1111111111111111,
              "#46039f"
             ],
             [
              0.2222222222222222,
              "#7201a8"
             ],
             [
              0.3333333333333333,
              "#9c179e"
             ],
             [
              0.4444444444444444,
              "#bd3786"
             ],
             [
              0.5555555555555556,
              "#d8576b"
             ],
             [
              0.6666666666666666,
              "#ed7953"
             ],
             [
              0.7777777777777778,
              "#fb9f3a"
             ],
             [
              0.8888888888888888,
              "#fdca26"
             ],
             [
              1,
              "#f0f921"
             ]
            ],
            "type": "contour"
           }
          ],
          "contourcarpet": [
           {
            "colorbar": {
             "outlinewidth": 0,
             "ticks": ""
            },
            "type": "contourcarpet"
           }
          ],
          "heatmap": [
           {
            "colorbar": {
             "outlinewidth": 0,
             "ticks": ""
            },
            "colorscale": [
             [
              0,
              "#0d0887"
             ],
             [
              0.1111111111111111,
              "#46039f"
             ],
             [
              0.2222222222222222,
              "#7201a8"
             ],
             [
              0.3333333333333333,
              "#9c179e"
             ],
             [
              0.4444444444444444,
              "#bd3786"
             ],
             [
              0.5555555555555556,
              "#d8576b"
             ],
             [
              0.6666666666666666,
              "#ed7953"
             ],
             [
              0.7777777777777778,
              "#fb9f3a"
             ],
             [
              0.8888888888888888,
              "#fdca26"
             ],
             [
              1,
              "#f0f921"
             ]
            ],
            "type": "heatmap"
           }
          ],
          "heatmapgl": [
           {
            "colorbar": {
             "outlinewidth": 0,
             "ticks": ""
            },
            "colorscale": [
             [
              0,
              "#0d0887"
             ],
             [
              0.1111111111111111,
              "#46039f"
             ],
             [
              0.2222222222222222,
              "#7201a8"
             ],
             [
              0.3333333333333333,
              "#9c179e"
             ],
             [
              0.4444444444444444,
              "#bd3786"
             ],
             [
              0.5555555555555556,
              "#d8576b"
             ],
             [
              0.6666666666666666,
              "#ed7953"
             ],
             [
              0.7777777777777778,
              "#fb9f3a"
             ],
             [
              0.8888888888888888,
              "#fdca26"
             ],
             [
              1,
              "#f0f921"
             ]
            ],
            "type": "heatmapgl"
           }
          ],
          "histogram": [
           {
            "marker": {
             "pattern": {
              "fillmode": "overlay",
              "size": 10,
              "solidity": 0.2
             }
            },
            "type": "histogram"
           }
          ],
          "histogram2d": [
           {
            "colorbar": {
             "outlinewidth": 0,
             "ticks": ""
            },
            "colorscale": [
             [
              0,
              "#0d0887"
             ],
             [
              0.1111111111111111,
              "#46039f"
             ],
             [
              0.2222222222222222,
              "#7201a8"
             ],
             [
              0.3333333333333333,
              "#9c179e"
             ],
             [
              0.4444444444444444,
              "#bd3786"
             ],
             [
              0.5555555555555556,
              "#d8576b"
             ],
             [
              0.6666666666666666,
              "#ed7953"
             ],
             [
              0.7777777777777778,
              "#fb9f3a"
             ],
             [
              0.8888888888888888,
              "#fdca26"
             ],
             [
              1,
              "#f0f921"
             ]
            ],
            "type": "histogram2d"
           }
          ],
          "histogram2dcontour": [
           {
            "colorbar": {
             "outlinewidth": 0,
             "ticks": ""
            },
            "colorscale": [
             [
              0,
              "#0d0887"
             ],
             [
              0.1111111111111111,
              "#46039f"
             ],
             [
              0.2222222222222222,
              "#7201a8"
             ],
             [
              0.3333333333333333,
              "#9c179e"
             ],
             [
              0.4444444444444444,
              "#bd3786"
             ],
             [
              0.5555555555555556,
              "#d8576b"
             ],
             [
              0.6666666666666666,
              "#ed7953"
             ],
             [
              0.7777777777777778,
              "#fb9f3a"
             ],
             [
              0.8888888888888888,
              "#fdca26"
             ],
             [
              1,
              "#f0f921"
             ]
            ],
            "type": "histogram2dcontour"
           }
          ],
          "mesh3d": [
           {
            "colorbar": {
             "outlinewidth": 0,
             "ticks": ""
            },
            "type": "mesh3d"
           }
          ],
          "parcoords": [
           {
            "line": {
             "colorbar": {
              "outlinewidth": 0,
              "ticks": ""
             }
            },
            "type": "parcoords"
           }
          ],
          "pie": [
           {
            "automargin": true,
            "type": "pie"
           }
          ],
          "scatter": [
           {
            "fillpattern": {
             "fillmode": "overlay",
             "size": 10,
             "solidity": 0.2
            },
            "type": "scatter"
           }
          ],
          "scatter3d": [
           {
            "line": {
             "colorbar": {
              "outlinewidth": 0,
              "ticks": ""
             }
            },
            "marker": {
             "colorbar": {
              "outlinewidth": 0,
              "ticks": ""
             }
            },
            "type": "scatter3d"
           }
          ],
          "scattercarpet": [
           {
            "marker": {
             "colorbar": {
              "outlinewidth": 0,
              "ticks": ""
             }
            },
            "type": "scattercarpet"
           }
          ],
          "scattergeo": [
           {
            "marker": {
             "colorbar": {
              "outlinewidth": 0,
              "ticks": ""
             }
            },
            "type": "scattergeo"
           }
          ],
          "scattergl": [
           {
            "marker": {
             "colorbar": {
              "outlinewidth": 0,
              "ticks": ""
             }
            },
            "type": "scattergl"
           }
          ],
          "scattermapbox": [
           {
            "marker": {
             "colorbar": {
              "outlinewidth": 0,
              "ticks": ""
             }
            },
            "type": "scattermapbox"
           }
          ],
          "scatterpolar": [
           {
            "marker": {
             "colorbar": {
              "outlinewidth": 0,
              "ticks": ""
             }
            },
            "type": "scatterpolar"
           }
          ],
          "scatterpolargl": [
           {
            "marker": {
             "colorbar": {
              "outlinewidth": 0,
              "ticks": ""
             }
            },
            "type": "scatterpolargl"
           }
          ],
          "scatterternary": [
           {
            "marker": {
             "colorbar": {
              "outlinewidth": 0,
              "ticks": ""
             }
            },
            "type": "scatterternary"
           }
          ],
          "surface": [
           {
            "colorbar": {
             "outlinewidth": 0,
             "ticks": ""
            },
            "colorscale": [
             [
              0,
              "#0d0887"
             ],
             [
              0.1111111111111111,
              "#46039f"
             ],
             [
              0.2222222222222222,
              "#7201a8"
             ],
             [
              0.3333333333333333,
              "#9c179e"
             ],
             [
              0.4444444444444444,
              "#bd3786"
             ],
             [
              0.5555555555555556,
              "#d8576b"
             ],
             [
              0.6666666666666666,
              "#ed7953"
             ],
             [
              0.7777777777777778,
              "#fb9f3a"
             ],
             [
              0.8888888888888888,
              "#fdca26"
             ],
             [
              1,
              "#f0f921"
             ]
            ],
            "type": "surface"
           }
          ],
          "table": [
           {
            "cells": {
             "fill": {
              "color": "#EBF0F8"
             },
             "line": {
              "color": "white"
             }
            },
            "header": {
             "fill": {
              "color": "#C8D4E3"
             },
             "line": {
              "color": "white"
             }
            },
            "type": "table"
           }
          ]
         },
         "layout": {
          "annotationdefaults": {
           "arrowcolor": "#2a3f5f",
           "arrowhead": 0,
           "arrowwidth": 1
          },
          "autotypenumbers": "strict",
          "coloraxis": {
           "colorbar": {
            "outlinewidth": 0,
            "ticks": ""
           }
          },
          "colorscale": {
           "diverging": [
            [
             0,
             "#8e0152"
            ],
            [
             0.1,
             "#c51b7d"
            ],
            [
             0.2,
             "#de77ae"
            ],
            [
             0.3,
             "#f1b6da"
            ],
            [
             0.4,
             "#fde0ef"
            ],
            [
             0.5,
             "#f7f7f7"
            ],
            [
             0.6,
             "#e6f5d0"
            ],
            [
             0.7,
             "#b8e186"
            ],
            [
             0.8,
             "#7fbc41"
            ],
            [
             0.9,
             "#4d9221"
            ],
            [
             1,
             "#276419"
            ]
           ],
           "sequential": [
            [
             0,
             "#0d0887"
            ],
            [
             0.1111111111111111,
             "#46039f"
            ],
            [
             0.2222222222222222,
             "#7201a8"
            ],
            [
             0.3333333333333333,
             "#9c179e"
            ],
            [
             0.4444444444444444,
             "#bd3786"
            ],
            [
             0.5555555555555556,
             "#d8576b"
            ],
            [
             0.6666666666666666,
             "#ed7953"
            ],
            [
             0.7777777777777778,
             "#fb9f3a"
            ],
            [
             0.8888888888888888,
             "#fdca26"
            ],
            [
             1,
             "#f0f921"
            ]
           ],
           "sequentialminus": [
            [
             0,
             "#0d0887"
            ],
            [
             0.1111111111111111,
             "#46039f"
            ],
            [
             0.2222222222222222,
             "#7201a8"
            ],
            [
             0.3333333333333333,
             "#9c179e"
            ],
            [
             0.4444444444444444,
             "#bd3786"
            ],
            [
             0.5555555555555556,
             "#d8576b"
            ],
            [
             0.6666666666666666,
             "#ed7953"
            ],
            [
             0.7777777777777778,
             "#fb9f3a"
            ],
            [
             0.8888888888888888,
             "#fdca26"
            ],
            [
             1,
             "#f0f921"
            ]
           ]
          },
          "colorway": [
           "#636efa",
           "#EF553B",
           "#00cc96",
           "#ab63fa",
           "#FFA15A",
           "#19d3f3",
           "#FF6692",
           "#B6E880",
           "#FF97FF",
           "#FECB52"
          ],
          "font": {
           "color": "#2a3f5f"
          },
          "geo": {
           "bgcolor": "white",
           "lakecolor": "white",
           "landcolor": "#E5ECF6",
           "showlakes": true,
           "showland": true,
           "subunitcolor": "white"
          },
          "hoverlabel": {
           "align": "left"
          },
          "hovermode": "closest",
          "mapbox": {
           "style": "light"
          },
          "paper_bgcolor": "white",
          "plot_bgcolor": "#E5ECF6",
          "polar": {
           "angularaxis": {
            "gridcolor": "white",
            "linecolor": "white",
            "ticks": ""
           },
           "bgcolor": "#E5ECF6",
           "radialaxis": {
            "gridcolor": "white",
            "linecolor": "white",
            "ticks": ""
           }
          },
          "scene": {
           "xaxis": {
            "backgroundcolor": "#E5ECF6",
            "gridcolor": "white",
            "gridwidth": 2,
            "linecolor": "white",
            "showbackground": true,
            "ticks": "",
            "zerolinecolor": "white"
           },
           "yaxis": {
            "backgroundcolor": "#E5ECF6",
            "gridcolor": "white",
            "gridwidth": 2,
            "linecolor": "white",
            "showbackground": true,
            "ticks": "",
            "zerolinecolor": "white"
           },
           "zaxis": {
            "backgroundcolor": "#E5ECF6",
            "gridcolor": "white",
            "gridwidth": 2,
            "linecolor": "white",
            "showbackground": true,
            "ticks": "",
            "zerolinecolor": "white"
           }
          },
          "shapedefaults": {
           "line": {
            "color": "#2a3f5f"
           }
          },
          "ternary": {
           "aaxis": {
            "gridcolor": "white",
            "linecolor": "white",
            "ticks": ""
           },
           "baxis": {
            "gridcolor": "white",
            "linecolor": "white",
            "ticks": ""
           },
           "bgcolor": "#E5ECF6",
           "caxis": {
            "gridcolor": "white",
            "linecolor": "white",
            "ticks": ""
           }
          },
          "title": {
           "x": 0.05
          },
          "xaxis": {
           "automargin": true,
           "gridcolor": "white",
           "linecolor": "white",
           "ticks": "",
           "title": {
            "standoff": 15
           },
           "zerolinecolor": "white",
           "zerolinewidth": 2
          },
          "yaxis": {
           "automargin": true,
           "gridcolor": "white",
           "linecolor": "white",
           "ticks": "",
           "title": {
            "standoff": 15
           },
           "zerolinecolor": "white",
           "zerolinewidth": 2
          }
         }
        },
        "title": {
         "text": ""
        },
        "width": 800,
        "xaxis": {
         "title": {
          "text": ""
         }
        },
        "yaxis": {
         "title": {
          "text": ""
         }
        }
       }
      }
     },
     "metadata": {},
     "output_type": "display_data"
    }
   ],
   "source": [
    "\n",
    "loan_data = CSV.copy()\n",
    "\n",
    "# Compute the correlation matrix for numeric columns\n",
    "correlation_matrix = loan_data.select_dtypes(include=[np.number]).corr()\n",
    "\n",
    "# Create the heatmap\n",
    "fig = go.Figure(\n",
    "    data=go.Heatmap(\n",
    "        z=correlation_matrix.values,\n",
    "        x=correlation_matrix.columns,\n",
    "        y=correlation_matrix.columns,\n",
    "        colorscale='Viridis',\n",
    "        colorbar=dict(title=\"Correlation Coefficient\")\n",
    "    )\n",
    ")\n",
    "\n",
    "# Update the layout\n",
    "fig.update_layout(\n",
    "    title=\"\", #Heatmap of Correlation Matrix\n",
    "    xaxis=dict(title=\"\"),\n",
    "    yaxis=dict(title=\"\"),\n",
    "    autosize=False,\n",
    "    width=800,\n",
    "    height=800\n",
    ")\n",
    "\n",
    "# Display the heatmap\n",
    "fig.show()\n",
    "\n",
    "# Optional: Save the heatmap to an HTML file\n",
    "fig.write_html('heatmap_correlation.html')\n"
   ]
  },
  {
   "cell_type": "code",
   "execution_count": null,
   "metadata": {},
   "outputs": [
    {
     "name": "stdout",
     "output_type": "stream",
     "text": [
      "{'message': {'type': 'response', 'service': 'com.naver.webtoon', 'version': '0.0.1', 'result': {'titleInfo': {'titleNo': 300138, 'language': 'en', 'writingAuthorName': 's0s2', 'writingCommunityAuthorId': 'o6ocb', 'representGenre': 'COMEDY', 'genreInfo': {'name': 'Comedy', 'mask': 'https://webtoons-static.pstatic.net/image/genre/challenge_new_mask/mask_and_comedy.png', 'index': 0, 'color': 'EEA800', 'code': 'COMEDY'}, 'title': 'The Little Trashmaid', 'synopsis': 'Short comic strips of a mermaid in the modern days~\\n\\nUpdates every two weeks (on friday)\\n\\n\\nTwitter: @s0s2\\nTumblr: s0s2\\nInstagram: s0s2tagram\\nYoutube: s0s2', 'serviceStatus': 'SERVICE', 'restTerminationStatus': 'SERIES', 'thumbnail': '/20210512_221/1620803524068sbgtd_JPEG/7b9a0504-bebd-4795-92db-5aa0d8659677.jpg', 'starScoreAverage': 9.77, 'readCount': 258307602, 'favoriteCount': 1651881, 'totalServiceEpisodeCount': 158, 'lastEpisodeRegisterYmdt': 1731697201000, 'linkUrl': 'https://www.webtoons.com/en/canvas/the-little-trashmaid/list?title_no=300138', 'firstEpisodeNo': 1, 'firstEpisodeViewerUrl': 'https://www.webtoons.com/en/canvas/the-little-trashmaid/under-the-sea/viewer?title_no=300138&episode_no=1', 'genreColor': 'EEA800', 'badgeType': 'FAVORITE', 'likeitCount': 17327813, 'ageGradeNotice': False, 'rewardAdExposureDays': 14, 'rewardAdTitle': False, 'previewDisabled': False, 'contentRating': 'TEEN'}, 'challengeAuthorPatreon': {'userId': '21805004', 'userName': 'thelittletrashmaid', 'patronUrl': 'https://www.patreon.com/bePatron?utm_source=webtoons&utm_medium=link&utm_campaign=thelittletrashmaid&u=21805004&redirect_uri=http%3A%2F%2Fm.webtoons.com%2Fapp%2Fchallenge%2FpatreonCallback%3FpageType%3DepisodeList%26title_no%3D300138', 'usePatronage': True}, 'superLikePlacardBannerInfo': {'showBanner': True, 'totalSuperLikeCount': 1770}, 'contentRatingNotYetRatedSpecApplied': True}}}\n"
     ]
    }
   ],
   "source": [
    "\n",
    "\n",
    "df = CSV\n",
    "\n",
    "# La tua chiave API di Steam\n",
    "api_key = '6bad34c0b3msh3a5ed983d145ca5p1c02b8jsnaae4eb86a520'\n",
    "\n",
    "response_list={}; \n",
    "\n",
    "def get_list():\n",
    "    global response_list\n",
    "    url = \"https://webtoon.p.rapidapi.com/canvas/titles/list\"\n",
    "    querystring = {\n",
    "        \"genre\": \"ALL\",\n",
    "        \"sortOrder\": \"READ_COUNT\",\n",
    "        \"startIndex\": \"0\",\n",
    "        \"pageSize\": \"20\",\n",
    "        \"language\": \"en\"\n",
    "    }\n",
    "    headers = {\n",
    "        \"x-rapidapi-key\": \"6bad34c0b3msh3a5ed983d145ca5p1c02b8jsnaae4eb86a520\",\n",
    "        \"x-rapidapi-host\": \"webtoon.p.rapidapi.com\"\n",
    "    }\n",
    "    response = requests.get(url, headers=headers, params=querystring)\n",
    "    # Parse the response JSON\n",
    "    data = response.json()\n",
    "    # Initialize a list to store the response items\n",
    "    response_list = []\n",
    "\n",
    "    # Extract relevant data from the JSON and save it into the list\n",
    "    if \"titles\" in data:  # Assuming \"titles\" is the key that holds the list of items\n",
    "        response_list.extend(data[\"titles\"])  # Add the list of titles to the response_list\n",
    "    # Print the list\n",
    "    print(response_list)\n",
    "\n",
    "\n",
    "\n",
    "\n",
    "# Funzione per richiedere informazioni sul gioco\n",
    "def get_info_columns():\n",
    "    url = \"https://webtoon.p.rapidapi.com/canvas/titles/get-info\"\n",
    "    querystring = {\"titleNo\":\"300138\",\"language\":\"en\"}\n",
    "\n",
    "    headers = {\n",
    "        \"x-rapidapi-key\": \"6bad34c0b3msh3a5ed983d145ca5p1c02b8jsnaae4eb86a520\",\n",
    "        \"x-rapidapi-host\": \"webtoon.p.rapidapi.com\"\n",
    "    }\n",
    "    \n",
    "    try:\n",
    "        response = requests.get(url, headers=headers, params=querystring)\n",
    "        response.raise_for_status()  # Solleva un errore se la risposta non è stata corretta\n",
    "        data = response.json()\n",
    "        \n",
    "\n",
    "        # Verifica se data è un dizionario valido e se contiene il successo per l'app_id specifico\n",
    "        if data:\n",
    "\n",
    "           print(data)\n",
    "            \n",
    "        else:\n",
    "            print(f\"Informazioni non trovate per app_id \")\n",
    "    except (requests.RequestException, ValueError) as e:\n",
    "        print(f\"Errore durante la richiesta per app_id : {e}\")\n",
    "\n",
    "# Esempio di utilizzo con un app_id specifico\n",
    "get_info_columns()  # Sostituisci con un app_id di esempio\n"
   ]
  },
  {
   "cell_type": "code",
   "execution_count": null,
   "metadata": {},
   "outputs": [],
   "source": [
    "#La tua chiave dell'API web di Steam\n",
    "#Chiave: DCCC3E736BB48F2E9F2650E77F4E62FA\n",
    "#        kevin 23E59609969888B7C13C103A0C274DC4\n",
    "#Nome del dominio: DataScienceProject\n",
    "#https://bsi-docs.newzoo.com/docs/request-methods/\n",
    "#https://api.steampowered.com/ISteamApps/GetAppList/v2/\n",
    "#\"appid\":570940,\"name\":\"DARK SOULS™: REMASTERED\"\n",
    "#http://store.steampowered.com/api/appdetails?appids=570940&key=DCCC3E736BB48F2E9F2650E77F4E62FA\n",
    "\n",
    "\n",
    "\n",
    "data = pd.DataFrame(CSV)\n",
    "api_key =[ '6bad34c0b3msh3a5ed983d145ca5p1c02b8jsnaae4eb86a520' ]\n",
    "api_key_count=0\n",
    "steamResponding = True\n",
    "game_info_list = []\n",
    "games_fetch_path = Path('games_fetch.csv')\n",
    "game_info_df_path = Path('game_info_df.csv')\n",
    "\n",
    "\n",
    "\n",
    "#API FUNCTION__________________________________________________________________________________\n",
    "def get_game_info(app_id):\n",
    "    global api_key_count\n",
    "    global api_key\n",
    "    global steamResponding\n",
    "\n",
    "    apik=api_key[api_key_count]\n",
    "\n",
    "    url = f\"http://store.steampowered.com/api/appdetails?appids={app_id}&key={apik}\"\n",
    "    retries = 0\n",
    "    while retries < 3:\n",
    "        try:\n",
    "            response = requests.get(url)\n",
    "            response.raise_for_status()\n",
    "            data = response.json()\n",
    "            \n",
    "            # Check if the response is valid and contains the app_id\n",
    "            if data and str(app_id) in data and data[str(app_id)]['success']:\n",
    "                game_data = data[str(app_id)]['data']\n",
    "                extracted_data = {\n",
    "                    'type': game_data.get('type', None),\n",
    "                    'name': game_data.get('name', None),\n",
    "                    'steam_appid': game_data.get('steam_appid', None),\n",
    "                    'required_age': game_data.get('required_age', None),\n",
    "                    'is_free': game_data.get('is_free', None),\n",
    "                    'detailed_description': game_data.get('detailed_description', None),\n",
    "                    'about_the_game': game_data.get('about_the_game', None),\n",
    "                    'short_description': game_data.get('short_description', None),\n",
    "                    'supported_languages': game_data.get('supported_languages', None),\n",
    "                    'pc_requirements': game_data.get('pc_requirements', None),\n",
    "                    'mac_requirements': game_data.get('mac_requirements', None),\n",
    "                    'linux_requirements': game_data.get('linux_requirements', None),\n",
    "                    'developers': game_data.get('developers', [None]),\n",
    "                    'publishers': game_data.get('publishers', [None]),\n",
    "                    'price_overview': game_data.get('price_overview', {}).get('final_formatted', None),\n",
    "                    'platforms': game_data.get('platforms', None),\n",
    "                    'metacritic': game_data.get('metacritic', None),\n",
    "                    'categories': game_data.get('categories', None),\n",
    "                    'genres': game_data.get('genres', None),\n",
    "                    'recommendations': game_data.get('recommendations', None),\n",
    "                    'release_date': game_data.get('release_date', {}).get('date', None),\n",
    "                    'content_descriptors': game_data.get('content_descriptors', None),\n",
    "                    'ratings': game_data.get('ratings', None)\n",
    "                }\n",
    "                return extracted_data\n",
    "            else:\n",
    "                print(f\"Information not found for app_id {app_id}\")\n",
    "                return None\n",
    "        except requests.exceptions.HTTPError as e:\n",
    "            if e.response.status_code == 429:\n",
    "                print(f\"Error 429 Too Many Requests for app_id {app_id}\")\n",
    "                api_key_count = (api_key_count + 1) % len(api_key)\n",
    "                if api_key_count==0:\n",
    "                    steamResponding=False\n",
    "                return None\n",
    "            else:\n",
    "                retries+=1    \n",
    "    return None\n",
    "\n",
    "\n",
    "\n",
    "\n",
    "\n",
    "#LOADING WORK DONE_____________________________________________________________________________\n",
    "if games_fetch_path.is_file():\n",
    "   games_fetch_df = pd.read_csv(games_fetch_path)\n",
    "else:\n",
    "    games_fetch_df = pd.DataFrame({'app_id': CSV['app_id'], 'fetched': False})\n",
    "\n",
    "\n",
    "\n",
    "#if game_info_df_path.is_file():\n",
    "#    game_info_df = pd.read_csv(game_info_df_path)\n",
    "#else:\n",
    "#    # Define all the columns from the extracted_data structure\n",
    "#    game_info_df = pd.DataFrame(columns=[\n",
    "#        'type', 'name', 'steam_appid', 'required_age', 'is_free', 'detailed_description', \n",
    "#        'about_the_game', 'short_description', 'supported_languages', 'pc_requirements', \n",
    "#        'mac_requirements', 'linux_requirements', 'developers', 'publishers', \n",
    "#        'price_overview', 'platforms', 'metacritic', 'categories', 'genres', \n",
    "#        'recommendations', 'release_date', 'content_descriptors', 'ratings'\n",
    "#    ])\n",
    "\n",
    "game_info_df = pd.DataFrame(columns=[\n",
    "        'type', 'name', 'steam_appid', 'required_age', 'is_free', 'detailed_description', \n",
    "        'about_the_game', 'short_description', 'supported_languages', 'pc_requirements', \n",
    "        'mac_requirements', 'linux_requirements', 'developers', 'publishers', \n",
    "        'price_overview', 'platforms', 'metacritic', 'categories', 'genres', \n",
    "        'recommendations', 'release_date', 'content_descriptors', 'ratings'\n",
    "    ])\n",
    "\n",
    "\n",
    "\n",
    "try:\n",
    "\n",
    "    saveIntervall=0\n",
    "    savedWhileSleeping= False\n",
    "\n",
    "    for app_id, fetched in games_fetch_df[['app_id', 'fetched']].itertuples(index=False):\n",
    "        if not fetched:\n",
    "            if steamResponding:\n",
    "                savedWhileSleeping =False\n",
    "                game_info = get_game_info(app_id)\n",
    "                if game_info:\n",
    "                    game_info_list.append(game_info)\n",
    "                    games_fetch_df.loc[games_fetch_df['app_id'] == app_id, 'fetched'] = True\n",
    "                    print(f\"Fetched data for app_id {app_id}\")\n",
    "            else:\n",
    "                if not savedWhileSleeping:\n",
    "                    savedWhileSleeping=True\n",
    "                    new_game_info_df = pd.DataFrame(game_info_list)\n",
    "                    game_info_df = pd.concat([game_info_df, new_game_info_df], axis=0)\n",
    "                    games_fetch_df.to_csv(games_fetch_path, index=False)\n",
    "                    game_info_df.to_csv(game_info_df_path, index=False)\n",
    "                    game_info_df = pd.DataFrame(columns=[\n",
    "        'type', 'name', 'steam_appid', 'required_age', 'is_free', 'detailed_description', \n",
    "        'about_the_game', 'short_description', 'supported_languages', 'pc_requirements', \n",
    "        'mac_requirements', 'linux_requirements', 'developers', 'publishers', \n",
    "        'price_overview', 'platforms', 'metacritic', 'categories', 'genres', \n",
    "        'recommendations', 'release_date', 'content_descriptors', 'ratings'\n",
    "    ])\n",
    "\n",
    "                    saveIntervall=0\n",
    "                time.sleep(10)\n",
    "                steamResponding=True\n",
    "        if saveIntervall>100:\n",
    "            new_game_info_df = pd.DataFrame(game_info_list)\n",
    "            game_info_df = pd.concat([game_info_df, new_game_info_df], axis=0)\n",
    "            games_fetch_df.to_csv(games_fetch_path, index=False)\n",
    "            game_info_df.to_csv(game_info_df_path, index=False)\n",
    "            game_info_df = pd.DataFrame(columns=[\n",
    "        'type', 'name', 'steam_appid', 'required_age', 'is_free', 'detailed_description', \n",
    "        'about_the_game', 'short_description', 'supported_languages', 'pc_requirements', \n",
    "        'mac_requirements', 'linux_requirements', 'developers', 'publishers', \n",
    "        'price_overview', 'platforms', 'metacritic', 'categories', 'genres', \n",
    "        'recommendations', 'release_date', 'content_descriptors', 'ratings'\n",
    "    ])\n",
    "\n",
    "            saveIntervall=0\n",
    "        else:\n",
    "            saveIntervall+=1\n",
    "\n",
    "\n",
    "\n",
    "\n",
    "\n",
    "finally:\n",
    "    \n",
    "    # Creiamo un DataFrame con le informazioni aggiuntive\n",
    "    new_game_info_df = pd.DataFrame(game_info_list)\n",
    "    game_info_df = pd.concat([game_info_df, new_game_info_df], axis=0)\n",
    "    games_fetch_df.to_csv(games_fetch_path, index=False)\n",
    "    game_info_df.to_csv(game_info_df_path, index=False)\n",
    "    print(\"finally\")\n",
    "    \n",
    "\n",
    "\n",
    "\n",
    "# Creiamo un DataFrame con le informazioni aggiuntive\n",
    "#new_game_info_df = pd.DataFrame(game_info_list)\n",
    "#game_info_df = pd.concat([game_info_df, new_game_info_df], axis=1)\n",
    "#games_fetch_df.to_csv(games_fetch_path, index=False)\n",
    "#game_info_df.to_csv(game_info_df_path, index=False)\n",
    "\n",
    "\n",
    "\n"
   ]
  }
 ],
 "metadata": {
  "kernelspec": {
   "display_name": "datascience",
   "language": "python",
   "name": "python3"
  },
  "language_info": {
   "codemirror_mode": {
    "name": "ipython",
    "version": 3
   },
   "file_extension": ".py",
   "mimetype": "text/x-python",
   "name": "python",
   "nbconvert_exporter": "python",
   "pygments_lexer": "ipython3",
   "version": "3.12.5"
  }
 },
 "nbformat": 4,
 "nbformat_minor": 2
}
